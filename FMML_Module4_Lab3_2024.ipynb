{
  "nbformat": 4,
  "nbformat_minor": 0,
  "metadata": {
    "colab": {
      "provenance": [],
      "include_colab_link": true
    },
    "kernelspec": {
      "name": "python3",
      "display_name": "Python 3"
    },
    "language_info": {
      "name": "python"
    }
  },
  "cells": [
    {
      "cell_type": "markdown",
      "metadata": {
        "id": "view-in-github",
        "colab_type": "text"
      },
      "source": [
        "<a href=\"https://colab.research.google.com/github/SriRamaLakshmi50/FMML_projects-_labs/blob/main/FMML_Module4_Lab3_2024.ipynb\" target=\"_parent\"><img src=\"https://colab.research.google.com/assets/colab-badge.svg\" alt=\"Open In Colab\"/></a>"
      ]
    },
    {
      "cell_type": "markdown",
      "source": [
        "# FOUNDATIONS OF MODERN MACHINE LEARNING, IIIT Hyderabad\n",
        "# Module 4: Perceptron and Gradient Descent\n",
        "## Lab 3: Gradient Descent\n",
        "\n",
        "Gradient descent is a very important algorithm to understand, as it underpins many of the more advanced algorithms used in Machine Learning and Deep Learning.\n",
        "\n",
        "A brief overview of the algorithm is\n",
        "\n",
        "\n",
        "*   start with a random initialization of the solution.\n",
        "*   incrementally change the solution by moving in the direction of negative gradient of the objective function.\n",
        "*   repeat the previous step until some convergence criteria is met.\n",
        "\n",
        "The key equation for change in weight is:\n",
        "$$w^{k+1} \\leftarrow w^k - \\eta \\Delta J$$\n",
        "\n",
        "In this lab, we will discuss stochastic gradient descent, mini-batch gradient descent and batch gradient descent.\n"
      ],
      "metadata": {
        "id": "XYxxkQg6xCjD"
      }
    },
    {
      "cell_type": "code",
      "metadata": {
        "id": "Fr-MnaGs7JmZ"
      },
      "source": [
        "import numpy as np\n",
        "import matplotlib.pyplot as plt"
      ],
      "execution_count": 1,
      "outputs": []
    },
    {
      "cell_type": "code",
      "metadata": {
        "id": "7ob_zZms7VOu"
      },
      "source": [
        "np.random.seed(42)"
      ],
      "execution_count": 2,
      "outputs": []
    },
    {
      "cell_type": "markdown",
      "metadata": {
        "id": "v4Kix4bcChiy"
      },
      "source": [
        "# Creating the Data\n",
        "\n",
        "Let's generate some data with:\n",
        "\\begin{equation} y_0= 4 \\end{equation}\n",
        "\\begin{equation} y_1= 3 \\end{equation}\n",
        "\n",
        "and also add some noise to the data."
      ]
    },
    {
      "cell_type": "code",
      "metadata": {
        "id": "MtAS7eFZ9hX6"
      },
      "source": [
        "X = 2 * np.random.rand(100, 1)\n",
        "y = 4 + 3 * X + np.random.randn(100, 1)"
      ],
      "execution_count": 17,
      "outputs": []
    },
    {
      "cell_type": "markdown",
      "metadata": {
        "id": "zD95NaF-CxM-"
      },
      "source": [
        "Let's also plot the data we just created"
      ]
    },
    {
      "cell_type": "code",
      "metadata": {
        "colab": {
          "base_uri": "https://localhost:8080/",
          "height": 466
        },
        "id": "3IiEP4BQ7Wja",
        "outputId": "04f1c6da-b2a4-465c-ff2b-152d2b5c9d47"
      },
      "source": [
        "plt.plot(X, y, 'b.')\n",
        "plt.xlabel('x')\n",
        "plt.ylabel('y', rotation=0)"
      ],
      "execution_count": 18,
      "outputs": [
        {
          "output_type": "execute_result",
          "data": {
            "text/plain": [
              "Text(0, 0.5, 'y')"
            ]
          },
          "metadata": {},
          "execution_count": 18
        },
        {
          "output_type": "display_data",
          "data": {
            "text/plain": [
              "<Figure size 640x480 with 1 Axes>"
            ],
            "image/png": "[encoded data removed]"
          },
          "metadata": {}
        }
      ]
    },
    {
      "cell_type": "markdown",
      "metadata": {
        "id": "ScwxpouoDDyZ"
      },
      "source": [
        "## Cost Function\n",
        "\n",
        "The equation for calculating cost function is as shown below. The cost function is only for linear regression. For other algorithms, the cost function will be different and the gradients would have to be derived from the cost functions\n",
        "\n",
        "\\begin{equation}\n",
        "J(y_{pred}) = \\frac{1}{2} m \\sum_{i=1}^{m} (h(y_{pred})^{(i)} - y^{(i)})^2\n",
        "\\end{equation}"
      ]
    },
    {
      "cell_type": "code",
      "metadata": {
        "id": "PUeTUAXH7ZaV"
      },
      "source": [
        "def cal_cost(y_pred, X, y):\n",
        "    '''\n",
        "    Calculates the cost for given X and Y.\n",
        "    y_pred = Vector of y_preds\n",
        "    X = Row of X's np.zeros((2, j))\n",
        "    y = Actual y's np.zeros((2, 1))\n",
        "\n",
        "    where:\n",
        "        j is the no of features\n",
        "    '''\n",
        "\n",
        "    m = len(y)\n",
        "\n",
        "    predictions = X.dot(y_pred)\n",
        "    cost = (1 / 2 * m) * np.sum(np.square(predictions - y))\n",
        "\n",
        "    return cost"
      ],
      "execution_count": 24,
      "outputs": []
    },
    {
      "cell_type": "markdown",
      "metadata": {
        "id": "FcXqsVNpDbKC"
      },
      "source": [
        "## Gradients\n",
        "\n",
        "\\begin{equation}\n",
        "y_{pred_0}: = y_{pred_0} -\\alpha . (1/m .\\sum_{i=1}^{m}(h(y_{pred}^{(i)} - y^{(i)}).X_0^{(i)})\n",
        "\\end{equation}\n",
        "\\begin{equation}\n",
        "y_{pred_1}: = y_{pred_1} -\\alpha . (1/m .\\sum_{i=1}^{m}(h(y_{pred}^{(i)} - y^{(i)}).X_0^{(i)})\n",
        "\\end{equation}\n",
        ".\n",
        "\n",
        ".\n",
        "\n",
        ".\n",
        "\n",
        ".\n",
        "\n",
        "\\begin{equation}\n",
        "y_{pred_j}: = y_{pred_j} -\\alpha . (1/m .\\sum_{i=1}^{m}(h(y_{pred}^{(i)} - y^{(i)}).X_0^{(i)})\n",
        "\\end{equation}"
      ]
    },
    {
      "cell_type": "code",
      "metadata": {
        "id": "fwxBFXP88NBW"
      },
      "source": [
        "def gradient_descent(X, y, y_pred, learning_rate=0.01, iterations=100):\n",
        "    '''\n",
        "    X = Matrix of X with added bias units\n",
        "    y = Vector of Y\n",
        "    y_pred = Vector of y_preds np.random.randn(j, 1)\n",
        "    learning_rate\n",
        "    iterations = no of iterations\n",
        "\n",
        "    Returns the final y_pred vector and array of cost history over no of iterations\n",
        "    '''\n",
        "\n",
        "    m = len(y)\n",
        "    cost_history = np.zeros(iterations)\n",
        "    y_pred_history = np.zeros((iterations, 2))\n",
        "\n",
        "    for it in range(iterations):\n",
        "        prediction = np.dot(X, y_pred)\n",
        "        y_pred = y_pred - (1 / m) * learning_rate * (X.T.dot((prediction - y)))\n",
        "        y_pred_history[it,:] = y_pred.T\n",
        "        cost_history[it]  = cal_cost(y_pred, X, y)\n",
        "\n",
        "    return y_pred, cost_history, y_pred_history"
      ],
      "execution_count": 25,
      "outputs": []
    },
    {
      "cell_type": "markdown",
      "metadata": {
        "id": "1iSohSB2EtK1"
      },
      "source": [
        "Let's do 1000 iterations with a learning rate of 0.01.\n",
        "We will start with a random prediction."
      ]
    },
    {
      "cell_type": "code",
      "metadata": {
        "colab": {
          "base_uri": "https://localhost:8080/"
        },
        "id": "18AX7hrU8bv5",
        "outputId": "1d7338c8-6566-4ff8-c3bf-4d35bf7387bb"
      },
      "source": [
        "lr = 0.01\n",
        "n_iter = 1000\n",
        "\n",
        "y_pred = np.random.randn(2,1)\n",
        "X_b = np.c_[np.ones((len(X), 1)), X]\n",
        "y_pred, cost_history, y_pred_history = gradient_descent(X_b, y, y_pred, lr, n_iter)\n",
        "\n",
        "print('y_pred[0]: {:0.3f}\\ny_pred[1]: {:0.3f}'.format(y_pred[0][0], y_pred[1][0]))\n",
        "print('Final error: {:0.3f}'.format(cost_history[-1]))"
      ],
      "execution_count": 26,
      "outputs": [
        {
          "output_type": "stream",
          "name": "stdout",
          "text": [
            "y_pred[0]: 3.715\n",
            "y_pred[1]: 3.100\n",
            "Final error: 5206.484\n"
          ]
        }
      ]
    },
    {
      "cell_type": "markdown",
      "metadata": {
        "id": "m7fao2MaE216"
      },
      "source": [
        "Plotting the error vs Number of iterations"
      ]
    },
    {
      "cell_type": "code",
      "metadata": {
        "colab": {
          "base_uri": "https://localhost:8080/",
          "height": 0
        },
        "id": "DrkrAAbk8hIs",
        "outputId": "13a6d638-54f0-41fc-f741-28cf283a3cfa"
      },
      "source": [
        "fig, ax = plt.subplots(figsize=(12,8))\n",
        "\n",
        "ax.set_ylabel('Error')\n",
        "ax.set_xlabel('Number of iterations')\n",
        "\n",
        "ax.plot(range(n_iter), cost_history, 'b.')"
      ],
      "execution_count": 27,
      "outputs": [
        {
          "output_type": "execute_result",
          "data": {
            "text/plain": [
              "[<matplotlib.lines.Line2D at 0x7a3b0d72bd00>]"
            ]
          },
          "metadata": {},
          "execution_count": 27
        },
        {
          "output_type": "display_data",
          "data": {
            "text/plain": [
              "<Figure size 1200x800 with 1 Axes>"
            ],
            "image/png": "[encoded data removed]"
          },
          "metadata": {}
        }
      ]
    },
    {
      "cell_type": "markdown",
      "metadata": {
        "id": "IG5tWAy-FCaW"
      },
      "source": [
        "Zooming in..."
      ]
    },
    {
      "cell_type": "code",
      "metadata": {
        "colab": {
          "base_uri": "https://localhost:8080/",
          "height": 0
        },
        "id": "WZ7BoFHy8kTk",
        "outputId": "3e57ca6e-7c2c-4b78-aa82-21a519fef430"
      },
      "source": [
        "fig,ax = plt.subplots(figsize=(10,8))\n",
        "ax.plot(range(200), cost_history[:200], 'b.')"
      ],
      "execution_count": 28,
      "outputs": [
        {
          "output_type": "execute_result",
          "data": {
            "text/plain": [
              "[<matplotlib.lines.Line2D at 0x7a3b0d5caa10>]"
            ]
          },
          "metadata": {},
          "execution_count": 28
        },
        {
          "output_type": "display_data",
          "data": {
            "text/plain": [
              "<Figure size 1000x800 with 1 Axes>"
            ],
            "image/png": "[encoded data removed]"
          },
          "metadata": {}
        }
      ]
    },
    {
      "cell_type": "markdown",
      "metadata": {
        "id": "JYhOp3fjnh2G"
      },
      "source": [
        "# Stochastic Gradient Descent"
      ]
    },
    {
      "cell_type": "markdown",
      "source": [
        "In Batch Gradient Descent we were considering all the examples for every step of Gradient Descent. But what if our dataset is very huge. Deep learning models crave for data. The more the data the more chances of a model to be good. Suppose our dataset has 5 million examples, then just to take one step the model will have to calculate the gradients of all the 5 million examples. This does not seem an efficient way. To tackle this problem we have Stochastic Gradient Descent. In Stochastic Gradient Descent (SGD), we consider just one example at a time to take a single step."
      ],
      "metadata": {
        "id": "10N2dcwWUctJ"
      }
    },
    {
      "cell_type": "code",
      "metadata": {
        "id": "aVwD7Cqw8m1d"
      },
      "source": [
        "def stocashtic_gradient_descent(X, y, y_pred, learning_rate=0.01, iterations=10):\n",
        "    '''\n",
        "    X = Matrix of X with added bias units\n",
        "    y = Vector of Y\n",
        "    y_pred = Vector of y_pred np.random.randn(j,1)\n",
        "    learning_rate\n",
        "    iterations = no of iterations\n",
        "\n",
        "    Returns the final y_pred vector and array of cost history over no of iterations\n",
        "    '''\n",
        "\n",
        "    m = len(y)\n",
        "    cost_history = np.zeros(iterations)\n",
        "\n",
        "    for it in range(iterations):\n",
        "        cost = 0.0\n",
        "\n",
        "        for i in range(m):\n",
        "            rand_ind = np.random.randint(0,m)\n",
        "            X_i = X[rand_ind, :].reshape(1, X.shape[1])\n",
        "            y_i = y[rand_ind].reshape(1,1)\n",
        "            prediction = np.dot(X_i, y_pred)\n",
        "\n",
        "            y_pred = y_pred - (1 / m) * learning_rate *(X_i.T.dot((prediction - y_i)))\n",
        "            cost += cal_cost(y_pred, X_i, y_i)\n",
        "\n",
        "        cost_history[it]  = cost\n",
        "\n",
        "    return y_pred, cost_history"
      ],
      "execution_count": 29,
      "outputs": []
    },
    {
      "cell_type": "code",
      "metadata": {
        "colab": {
          "base_uri": "https://localhost:8080/"
        },
        "id": "Yk6pfB5c8tPz",
        "outputId": "c27baaf8-d7f2-4a71-ff51-51289d5dfc36"
      },
      "source": [
        "lr = 0.5\n",
        "n_iter = 50\n",
        "y_pred = np.random.randn(2, 1)\n",
        "X_b = np.c_[np.ones((len(X), 1)), X]\n",
        "y_pred, cost_history = stocashtic_gradient_descent(X_b, y, y_pred, lr, n_iter)\n",
        "\n",
        "print('y_pred[0]: {:0.3f}\\ny_pred[1]: {:0.3f}'.format(y_pred[0][0], y_pred[1][0]))\n",
        "print('Final error: {:0.3f}'.format(cost_history[-1]))"
      ],
      "execution_count": 30,
      "outputs": [
        {
          "output_type": "stream",
          "name": "stdout",
          "text": [
            "y_pred[0]: 3.530\n",
            "y_pred[1]: 3.158\n",
            "Final error: 43.754\n"
          ]
        }
      ]
    },
    {
      "cell_type": "code",
      "metadata": {
        "colab": {
          "base_uri": "https://localhost:8080/",
          "height": 713
        },
        "id": "YiJUgS7o8u2e",
        "outputId": "e0848924-9626-4f6f-c82a-7d97e018d082"
      },
      "source": [
        "fig, ax = plt.subplots(figsize=(10,8))\n",
        "\n",
        "ax.set_ylabel('Error')\n",
        "ax.set_xlabel('Number of iterations')\n",
        "y_pred = np.random.randn(2,1)\n",
        "\n",
        "ax.plot(range(n_iter), cost_history, 'b.')"
      ],
      "execution_count": 31,
      "outputs": [
        {
          "output_type": "execute_result",
          "data": {
            "text/plain": [
              "[<matplotlib.lines.Line2D at 0x7a3b0cee4730>]"
            ]
          },
          "metadata": {},
          "execution_count": 31
        },
        {
          "output_type": "display_data",
          "data": {
            "text/plain": [
              "<Figure size 1000x800 with 1 Axes>"
            ],
            "image/png": "[encoded data removed]"
          },
          "metadata": {}
        }
      ]
    },
    {
      "cell_type": "markdown",
      "metadata": {
        "id": "ScckWktynk1o"
      },
      "source": [
        "# Mini Batch Gradient Descent"
      ]
    },
    {
      "cell_type": "markdown",
      "source": [
        "We have seen the Batch Gradient Descent. We have also seen the Stochastic Gradient Descent. Batch Gradient Descent can be used for smoother curves. SGD can be used when the dataset is large. Batch Gradient Descent converges directly to minima. SGD converges faster for larger datasets. But, since in SGD we use only one example at a time, we cannot implement the vectorized implementation on it. This can slow down the computations. To tackle this problem, a mixture of Batch Gradient Descent and SGD is used.\n",
        "Neither we use all the dataset all at once nor we use the single example at a time. We use a batch of a fixed number of training examples which is less than the actual dataset and call it a mini-batch. Doing this helps us achieve the advantages of both the former variants we saw."
      ],
      "metadata": {
        "id": "ZTVz-QssUkuE"
      }
    },
    {
      "cell_type": "code",
      "metadata": {
        "id": "4JtxFVL78wEm"
      },
      "source": [
        "def minibatch_gradient_descent(X, y, y_pred, learning_rate=0.01, iterations=10, batch_size=20):\n",
        "    '''\n",
        "    X = Matrix of X without added bias units\n",
        "    y = Vector of Y\n",
        "    y_pred = Vector of y_preds np.random.randn(j, 1)\n",
        "    learning_rate\n",
        "    iterations = no of iterations\n",
        "\n",
        "    Returns the final theta vector and array of cost history over no of iterations\n",
        "    '''\n",
        "\n",
        "    m = len(y)\n",
        "    cost_history = np.zeros(iterations)\n",
        "    n_batches = int(m / batch_size)\n",
        "\n",
        "    for it in range(iterations):\n",
        "        cost = 0.0\n",
        "        indices = np.random.permutation(m)\n",
        "        X = X[indices]\n",
        "        y = y[indices]\n",
        "\n",
        "        for i in range(0, m, batch_size):\n",
        "            X_i = X[i: i + batch_size]\n",
        "            y_i = y[i: i + batch_size]\n",
        "\n",
        "            X_i = np.c_[np.ones(len(X_i)), X_i]\n",
        "            prediction = np.dot(X_i, y_pred)\n",
        "\n",
        "            y_pred = y_pred - (1 / m) * learning_rate * (X_i.T.dot((prediction - y_i)))\n",
        "            cost += cal_cost(y_pred, X_i, y_i)\n",
        "\n",
        "        cost_history[it]  = cost\n",
        "\n",
        "    return y_pred, cost_history"
      ],
      "execution_count": 32,
      "outputs": []
    },
    {
      "cell_type": "code",
      "metadata": {
        "colab": {
          "base_uri": "https://localhost:8080/"
        },
        "id": "SpbsVwA28znL",
        "outputId": "4bf920c6-7a80-4a98-e17f-54dd2ea72fbc"
      },
      "source": [
        "lr = 0.1\n",
        "n_iter = 200\n",
        "y_pred = np.random.randn(2,1)\n",
        "y_pred, cost_history = minibatch_gradient_descent(X, y, y_pred, lr, n_iter)\n",
        "\n",
        "print('y_pred[0]: {:0.3f}\\ny_pred[1]: {:0.3f}'.format(y_pred[0][0], y_pred[1][0]))\n",
        "print('Final error: {:0.3f}'.format(cost_history[-1]))"
      ],
      "execution_count": 33,
      "outputs": [
        {
          "output_type": "stream",
          "name": "stdout",
          "text": [
            "y_pred[0]: 3.559\n",
            "y_pred[1]: 3.218\n",
            "Final error: 1034.044\n"
          ]
        }
      ]
    },
    {
      "cell_type": "code",
      "metadata": {
        "colab": {
          "base_uri": "https://localhost:8080/",
          "height": 713
        },
        "id": "Q_ivOYHT817C",
        "outputId": "64cfdfd4-ec87-4ad0-9046-a83a1a146bd5"
      },
      "source": [
        "fig, ax = plt.subplots(figsize=(10,8))\n",
        "\n",
        "ax.set_ylabel('Error')\n",
        "ax.set_xlabel('Number of iterations')\n",
        "y_pred = np.random.randn(2,1)\n",
        "\n",
        "ax.plot(range(n_iter), cost_history, 'b.')"
      ],
      "execution_count": 34,
      "outputs": [
        {
          "output_type": "execute_result",
          "data": {
            "text/plain": [
              "[<matplotlib.lines.Line2D at 0x7a3b0d095db0>]"
            ]
          },
          "metadata": {},
          "execution_count": 34
        },
        {
          "output_type": "display_data",
          "data": {
            "text/plain": [
              "<Figure size 1000x800 with 1 Axes>"
            ],
            "image/png": "[encoded data removed]"
          },
          "metadata": {}
        }
      ]
    },
    {
      "cell_type": "code",
      "metadata": {
        "id": "3Sn1erIU83ck"
      },
      "source": [],
      "execution_count": 34,
      "outputs": []
    },
    {
      "cell_type": "markdown",
      "source": [
        "Things to try out:\n",
        "\n",
        "1. Change batch size in mini-batch gradient descent.\n",
        "2. Test all the three out on real datasets.\n",
        "3. Compare the effects of changing learning rate by the same amount in Batch GD, SGD and Mini-batch GD."
      ],
      "metadata": {
        "id": "0neTARjKUoP4"
      }
    },
    {
      "cell_type": "markdown",
      "source": [
        "ANS1:In mini-batch gradient descent, the batch size refers to the number of training examples utilized in one iteration. Adjusting the batch size can have an impact on the training process and the convergence of the model. Here are some considerations when changing the batch size:\n",
        "\n",
        "Batch Size Selection:\n",
        "\n",
        "Larger batch sizes lead to faster convergence as more training examples are processed in each iteration. Smaller batch sizes provide a regularizing effect and can lead to a better generalization. Computational Efficiency:\n",
        "\n",
        "Larger batch sizes take advantage of parallel processing and can be more computationally efficient, especially on hardware with parallel capabilities (e.g., GPUs). Smaller batch sizes may lead to faster iterations but can be less computationally efficient. Memory Constraints:\n",
        "\n",
        "Larger batch sizes require more memory, which might be a constraint on certain hardware. Smaller batch sizes consume less memory but might lead to less efficient GPU utilization. Stochastic Gradient Descent (SGD) vs. Mini-Batch:\n",
        "\n",
        "A batch size of 1 corresponds to pure stochastic gradient descent (SGD). A batch size equal to the size of the entire dataset is known as batch gradient descent. Mini-batch sizes generally fall in between, providing a balance between the advantages of SGD and batch gradient descent. Impact on Convergence:\n",
        "\n",
        "The choice of batch size can affect the convergence behavior. Smaller batch sizes introduce more noise but may escape local minima, leading to better generalization. To change the batch size, you typically need to modify the code where the training loop is implemented. Ensure that the data is divided into batches of the desired size, and the gradient descent update is performed on each batch.\n",
        "\n",
        "Here's a simplified example in Python using a generic deep learning framework like TensorFlow or PyTorch:"
      ],
      "metadata": {
        "id": "I5yRAndxYnse"
      }
    },
    {
      "cell_type": "code",
      "source": [
        "\n",
        "\n",
        "\n",
        "import numpy as np\n",
        "\n",
        "def cal_cost(theta, X, y):\n",
        "    m = len(y)\n",
        "    cost = (1/2*m) * np.sum(np.square(np.dot(X, theta) - y))\n",
        "    return cost\n",
        "\n",
        "def minibatch_gradient_descent(X, y, y_pred, learning_rate=0.01, iterations=10, batch_size=20):\n",
        "    '''\n",
        "    X = Matrix of X without added bias units\n",
        "    y = Vector of Y\n",
        "    y_pred = Vector of y_preds np.random.randn(j, 1)\n",
        "    learning_rate\n",
        "    iterations = no of iterations\n",
        "\n",
        "    Returns the final theta vector and array of cost history over no of iterations\n",
        "    '''\n",
        "\n",
        "    m = len(y)\n",
        "    cost_history = np.zeros(iterations)\n",
        "    n_batches = int(m / batch_size)\n",
        "\n",
        "    for it in range(iterations):\n",
        "        cost = 0.0\n",
        "        indices = np.random.permutation(m)\n",
        "        X = X[indices]\n",
        "        y = y[indices]\n",
        "\n",
        "        for i in range(0, m, batch_size):\n",
        "            X_i = X[i: i + batch_size]\n",
        "            y_i = y[i: i + batch_size]\n",
        "\n",
        "            X_i = np.c_[np.ones(len(X_i)), X_i]\n",
        "            prediction = np.dot(X_i, y_pred)\n",
        "\n",
        "            y_pred = y_pred - (1 / m) * learning_rate * (X_i.T.dot((prediction - y_i)))\n",
        "            cost += cal_cost(y_pred, X_i, y_i)\n",
        "\n",
        "        cost_history[it]  = cost\n",
        "\n",
        "    return y_pred, cost_history"
      ],
      "metadata": {
        "id": "YlHen3vIZHHX"
      },
      "execution_count": 35,
      "outputs": []
    },
    {
      "cell_type": "markdown",
      "source": [
        "ANS2"
      ],
      "metadata": {
        "id": "nvAHWNsVZrlN"
      }
    },
    {
      "cell_type": "code",
      "source": [
        "\n",
        "import numpy as np\n",
        "import tensorflow as tf\n",
        "from sklearn.model_selection import train_test_split\n",
        "from sklearn.preprocessing import StandardScaler\n",
        "from sklearn.datasets import load_iris\n",
        "\n",
        "# Load the Iris dataset\n",
        "iris = load_iris()\n",
        "X = iris.data\n",
        "y = iris.target\n",
        "\n",
        "# Standardize the features\n",
        "scaler = StandardScaler()\n",
        "X = scaler.fit_transform(X)\n",
        "\n",
        "# Split the dataset into training and testing sets\n",
        "X_train, X_test, y_train, y_test = train_test_split(X, y, test_size=0.2, random_state=42)\n",
        "\n",
        "# Convert labels to one-hot encoding\n",
        "y_train = tf.keras.utils.to_categorical(y_train, num_classes=3)\n",
        "y_test = tf.keras.utils.to_categorical(y_test, num_classes=3)\n",
        "\n",
        "# Define a simple neural network\n",
        "model = tf.keras.Sequential([\n",
        "    tf.keras.layers.Dense(64, activation='relu', input_shape=(4,)),\n",
        "    tf.keras.layers.Dense(3, activation='softmax')\n",
        "])\n",
        "\n",
        "# Compile the model\n",
        "model.compile(optimizer='adam', loss='categorical_crossentropy', metrics=['accuracy'])\n",
        "\n",
        "# Train with full batch size\n",
        "model.fit(X_train, y_train, epochs=50, batch_size=len(X_train), validation_data=(X_test, y_test))\n",
        "print(\"Training accuracy with full batch size:\", model.evaluate(X_train, y_train, verbose=0)[1])\n",
        "print(\"Testing accuracy with full batch size:\", model.evaluate(X_test, y_test, verbose=0)[1])\n",
        "\n",
        "# Train with mini-batch size\n",
        "model.fit(X_train, y_train, epochs=50, batch_size=32, validation_data=(X_test, y_test))\n",
        "print(\"Training accuracy with mini-batch size:\", model.evaluate(X_train, y_train, verbose=0)[1])\n",
        "print(\"Testing accuracy with mini-batch size:\", model.evaluate(X_test, y_test, verbose=0)[1])\n",
        "\n",
        "# Train with stochastic gradient descent (batch size 1)\n",
        "model.fit(X_train, y_train, epochs=50, batch_size=1, validation_data=(X_test, y_test))\n",
        "print(\"Training accuracy with stochastic gradient descent:\", model.evaluate(X_train, y_train, verbose=0)[1])\n",
        "print(\"Testing accuracy with stochastic gradient descent:\", model.evaluate(X_test, y_test, verbose=0)[1])"
      ],
      "metadata": {
        "id": "vKHY1FyYZpbw",
        "outputId": "129b18b8-aaaa-4cd2-f6da-e3210027ee2f",
        "colab": {
          "base_uri": "https://localhost:8080/"
        }
      },
      "execution_count": 36,
      "outputs": [
        {
          "output_type": "stream",
          "name": "stdout",
          "text": [
            "Epoch 1/50\n",
            "1/1 [==============================] - 1s 965ms/step - loss: 1.2578 - accuracy: 0.3083 - val_loss: 1.2355 - val_accuracy: 0.2667\n",
            "Epoch 2/50\n",
            "1/1 [==============================] - 0s 37ms/step - loss: 1.2380 - accuracy: 0.3083 - val_loss: 1.2146 - val_accuracy: 0.2667\n",
            "Epoch 3/50\n",
            "1/1 [==============================] - 0s 39ms/step - loss: 1.2185 - accuracy: 0.3083 - val_loss: 1.1940 - val_accuracy: 0.2667\n",
            "Epoch 4/50\n",
            "1/1 [==============================] - 0s 34ms/step - loss: 1.1993 - accuracy: 0.3083 - val_loss: 1.1736 - val_accuracy: 0.2667\n",
            "Epoch 5/50\n",
            "1/1 [==============================] - 0s 35ms/step - loss: 1.1802 - accuracy: 0.3083 - val_loss: 1.1536 - val_accuracy: 0.2667\n",
            "Epoch 6/50\n",
            "1/1 [==============================] - 0s 64ms/step - loss: 1.1615 - accuracy: 0.3000 - val_loss: 1.1339 - val_accuracy: 0.3000\n",
            "Epoch 7/50\n",
            "1/1 [==============================] - 0s 38ms/step - loss: 1.1429 - accuracy: 0.3000 - val_loss: 1.1144 - val_accuracy: 0.3000\n",
            "Epoch 8/50\n",
            "1/1 [==============================] - 0s 56ms/step - loss: 1.1246 - accuracy: 0.3000 - val_loss: 1.0953 - val_accuracy: 0.3000\n",
            "Epoch 9/50\n",
            "1/1 [==============================] - 0s 37ms/step - loss: 1.1066 - accuracy: 0.3000 - val_loss: 1.0764 - val_accuracy: 0.3000\n",
            "Epoch 10/50\n",
            "1/1 [==============================] - 0s 38ms/step - loss: 1.0889 - accuracy: 0.3083 - val_loss: 1.0578 - val_accuracy: 0.3000\n",
            "Epoch 11/50\n",
            "1/1 [==============================] - 0s 55ms/step - loss: 1.0714 - accuracy: 0.3333 - val_loss: 1.0395 - val_accuracy: 0.4333\n",
            "Epoch 12/50\n",
            "1/1 [==============================] - 0s 38ms/step - loss: 1.0542 - accuracy: 0.3667 - val_loss: 1.0214 - val_accuracy: 0.5333\n",
            "Epoch 13/50\n",
            "1/1 [==============================] - 0s 36ms/step - loss: 1.0373 - accuracy: 0.4167 - val_loss: 1.0036 - val_accuracy: 0.6333\n",
            "Epoch 14/50\n",
            "1/1 [==============================] - 0s 35ms/step - loss: 1.0206 - accuracy: 0.4667 - val_loss: 0.9862 - val_accuracy: 0.6667\n",
            "Epoch 15/50\n",
            "1/1 [==============================] - 0s 39ms/step - loss: 1.0043 - accuracy: 0.5000 - val_loss: 0.9690 - val_accuracy: 0.6667\n",
            "Epoch 16/50\n",
            "1/1 [==============================] - 0s 36ms/step - loss: 0.9882 - accuracy: 0.5583 - val_loss: 0.9521 - val_accuracy: 0.7000\n",
            "Epoch 17/50\n",
            "1/1 [==============================] - 0s 35ms/step - loss: 0.9724 - accuracy: 0.5833 - val_loss: 0.9355 - val_accuracy: 0.7667\n",
            "Epoch 18/50\n",
            "1/1 [==============================] - 0s 57ms/step - loss: 0.9569 - accuracy: 0.6250 - val_loss: 0.9192 - val_accuracy: 0.8000\n",
            "Epoch 19/50\n",
            "1/1 [==============================] - 0s 44ms/step - loss: 0.9417 - accuracy: 0.6667 - val_loss: 0.9032 - val_accuracy: 0.7667\n",
            "Epoch 20/50\n",
            "1/1 [==============================] - 0s 48ms/step - loss: 0.9268 - accuracy: 0.6917 - val_loss: 0.8876 - val_accuracy: 0.7667\n",
            "Epoch 21/50\n",
            "1/1 [==============================] - 0s 47ms/step - loss: 0.9122 - accuracy: 0.7333 - val_loss: 0.8722 - val_accuracy: 0.8333\n",
            "Epoch 22/50\n",
            "1/1 [==============================] - 0s 63ms/step - loss: 0.8980 - accuracy: 0.7333 - val_loss: 0.8571 - val_accuracy: 0.8333\n",
            "Epoch 23/50\n",
            "1/1 [==============================] - 0s 68ms/step - loss: 0.8840 - accuracy: 0.7500 - val_loss: 0.8423 - val_accuracy: 0.8667\n",
            "Epoch 24/50\n",
            "1/1 [==============================] - 0s 61ms/step - loss: 0.8703 - accuracy: 0.7417 - val_loss: 0.8278 - val_accuracy: 0.8333\n",
            "Epoch 25/50\n",
            "1/1 [==============================] - 0s 61ms/step - loss: 0.8568 - accuracy: 0.7667 - val_loss: 0.8137 - val_accuracy: 0.8333\n",
            "Epoch 26/50\n",
            "1/1 [==============================] - 0s 78ms/step - loss: 0.8437 - accuracy: 0.7750 - val_loss: 0.7998 - val_accuracy: 0.9000\n",
            "Epoch 27/50\n",
            "1/1 [==============================] - 0s 46ms/step - loss: 0.8308 - accuracy: 0.7833 - val_loss: 0.7862 - val_accuracy: 0.9000\n",
            "Epoch 28/50\n",
            "1/1 [==============================] - 0s 49ms/step - loss: 0.8182 - accuracy: 0.7833 - val_loss: 0.7729 - val_accuracy: 0.9000\n",
            "Epoch 29/50\n",
            "1/1 [==============================] - 0s 61ms/step - loss: 0.8059 - accuracy: 0.8000 - val_loss: 0.7600 - val_accuracy: 0.9000\n",
            "Epoch 30/50\n",
            "1/1 [==============================] - 0s 47ms/step - loss: 0.7939 - accuracy: 0.8083 - val_loss: 0.7473 - val_accuracy: 0.9000\n",
            "Epoch 31/50\n",
            "1/1 [==============================] - 0s 44ms/step - loss: 0.7821 - accuracy: 0.8083 - val_loss: 0.7349 - val_accuracy: 0.9000\n",
            "Epoch 32/50\n",
            "1/1 [==============================] - 0s 48ms/step - loss: 0.7706 - accuracy: 0.8083 - val_loss: 0.7228 - val_accuracy: 0.9000\n",
            "Epoch 33/50\n",
            "1/1 [==============================] - 0s 43ms/step - loss: 0.7594 - accuracy: 0.8083 - val_loss: 0.7110 - val_accuracy: 0.9000\n",
            "Epoch 34/50\n",
            "1/1 [==============================] - 0s 45ms/step - loss: 0.7484 - accuracy: 0.8167 - val_loss: 0.6994 - val_accuracy: 0.9000\n",
            "Epoch 35/50\n",
            "1/1 [==============================] - 0s 47ms/step - loss: 0.7377 - accuracy: 0.8167 - val_loss: 0.6881 - val_accuracy: 0.9000\n",
            "Epoch 36/50\n",
            "1/1 [==============================] - 0s 37ms/step - loss: 0.7272 - accuracy: 0.8167 - val_loss: 0.6771 - val_accuracy: 0.9000\n",
            "Epoch 37/50\n",
            "1/1 [==============================] - 0s 36ms/step - loss: 0.7170 - accuracy: 0.8167 - val_loss: 0.6663 - val_accuracy: 0.9000\n",
            "Epoch 38/50\n",
            "1/1 [==============================] - 0s 34ms/step - loss: 0.7070 - accuracy: 0.8333 - val_loss: 0.6558 - val_accuracy: 0.9000\n",
            "Epoch 39/50\n",
            "1/1 [==============================] - 0s 35ms/step - loss: 0.6972 - accuracy: 0.8333 - val_loss: 0.6455 - val_accuracy: 0.9000\n",
            "Epoch 40/50\n",
            "1/1 [==============================] - 0s 39ms/step - loss: 0.6877 - accuracy: 0.8333 - val_loss: 0.6355 - val_accuracy: 0.9000\n",
            "Epoch 41/50\n",
            "1/1 [==============================] - 0s 35ms/step - loss: 0.6784 - accuracy: 0.8333 - val_loss: 0.6258 - val_accuracy: 0.9000\n",
            "Epoch 42/50\n",
            "1/1 [==============================] - 0s 35ms/step - loss: 0.6693 - accuracy: 0.8333 - val_loss: 0.6163 - val_accuracy: 0.9000\n",
            "Epoch 43/50\n",
            "1/1 [==============================] - 0s 36ms/step - loss: 0.6604 - accuracy: 0.8250 - val_loss: 0.6070 - val_accuracy: 0.9000\n",
            "Epoch 44/50\n",
            "1/1 [==============================] - 0s 34ms/step - loss: 0.6518 - accuracy: 0.8250 - val_loss: 0.5980 - val_accuracy: 0.9000\n",
            "Epoch 45/50\n",
            "1/1 [==============================] - 0s 35ms/step - loss: 0.6434 - accuracy: 0.8250 - val_loss: 0.5892 - val_accuracy: 0.9000\n",
            "Epoch 46/50\n",
            "1/1 [==============================] - 0s 34ms/step - loss: 0.6352 - accuracy: 0.8250 - val_loss: 0.5806 - val_accuracy: 0.9000\n",
            "Epoch 47/50\n",
            "1/1 [==============================] - 0s 35ms/step - loss: 0.6272 - accuracy: 0.8250 - val_loss: 0.5722 - val_accuracy: 0.9000\n",
            "Epoch 48/50\n",
            "1/1 [==============================] - 0s 47ms/step - loss: 0.6194 - accuracy: 0.8250 - val_loss: 0.5641 - val_accuracy: 0.9000\n",
            "Epoch 49/50\n",
            "1/1 [==============================] - 0s 35ms/step - loss: 0.6118 - accuracy: 0.8250 - val_loss: 0.5562 - val_accuracy: 0.9000\n",
            "Epoch 50/50\n",
            "1/1 [==============================] - 0s 38ms/step - loss: 0.6044 - accuracy: 0.8250 - val_loss: 0.5485 - val_accuracy: 0.9000\n",
            "Training accuracy with full batch size: 0.824999988079071\n",
            "Testing accuracy with full batch size: 0.8999999761581421\n",
            "Epoch 1/50\n",
            "4/4 [==============================] - 0s 40ms/step - loss: 0.5880 - accuracy: 0.8250 - val_loss: 0.5199 - val_accuracy: 0.9000\n",
            "Epoch 2/50\n",
            "4/4 [==============================] - 0s 15ms/step - loss: 0.5625 - accuracy: 0.8250 - val_loss: 0.4944 - val_accuracy: 0.9000\n",
            "Epoch 3/50\n",
            "4/4 [==============================] - 0s 15ms/step - loss: 0.5389 - accuracy: 0.8250 - val_loss: 0.4719 - val_accuracy: 0.9000\n",
            "Epoch 4/50\n",
            "4/4 [==============================] - 0s 14ms/step - loss: 0.5199 - accuracy: 0.8333 - val_loss: 0.4516 - val_accuracy: 0.9000\n",
            "Epoch 5/50\n",
            "4/4 [==============================] - 0s 20ms/step - loss: 0.5010 - accuracy: 0.8250 - val_loss: 0.4340 - val_accuracy: 0.9000\n",
            "Epoch 6/50\n",
            "4/4 [==============================] - 0s 20ms/step - loss: 0.4849 - accuracy: 0.8250 - val_loss: 0.4175 - val_accuracy: 0.9000\n",
            "Epoch 7/50\n",
            "4/4 [==============================] - 0s 20ms/step - loss: 0.4702 - accuracy: 0.8250 - val_loss: 0.4030 - val_accuracy: 0.9000\n",
            "Epoch 8/50\n",
            "4/4 [==============================] - 0s 12ms/step - loss: 0.4563 - accuracy: 0.8250 - val_loss: 0.3897 - val_accuracy: 0.9000\n",
            "Epoch 9/50\n",
            "4/4 [==============================] - 0s 11ms/step - loss: 0.4439 - accuracy: 0.8333 - val_loss: 0.3775 - val_accuracy: 0.9000\n",
            "Epoch 10/50\n",
            "4/4 [==============================] - 0s 13ms/step - loss: 0.4327 - accuracy: 0.8333 - val_loss: 0.3663 - val_accuracy: 0.9000\n",
            "Epoch 11/50\n",
            "4/4 [==============================] - 0s 12ms/step - loss: 0.4219 - accuracy: 0.8333 - val_loss: 0.3561 - val_accuracy: 0.9000\n",
            "Epoch 12/50\n",
            "4/4 [==============================] - 0s 12ms/step - loss: 0.4125 - accuracy: 0.8333 - val_loss: 0.3463 - val_accuracy: 0.9000\n",
            "Epoch 13/50\n",
            "4/4 [==============================] - 0s 12ms/step - loss: 0.4031 - accuracy: 0.8333 - val_loss: 0.3374 - val_accuracy: 0.9000\n",
            "Epoch 14/50\n",
            "4/4 [==============================] - 0s 12ms/step - loss: 0.3951 - accuracy: 0.8417 - val_loss: 0.3290 - val_accuracy: 0.9000\n",
            "Epoch 15/50\n",
            "4/4 [==============================] - 0s 12ms/step - loss: 0.3870 - accuracy: 0.8417 - val_loss: 0.3211 - val_accuracy: 0.9000\n",
            "Epoch 16/50\n",
            "4/4 [==============================] - 0s 12ms/step - loss: 0.3793 - accuracy: 0.8417 - val_loss: 0.3136 - val_accuracy: 0.9000\n",
            "Epoch 17/50\n",
            "4/4 [==============================] - 0s 13ms/step - loss: 0.3722 - accuracy: 0.8500 - val_loss: 0.3068 - val_accuracy: 0.9000\n",
            "Epoch 18/50\n",
            "4/4 [==============================] - 0s 12ms/step - loss: 0.3656 - accuracy: 0.8500 - val_loss: 0.3002 - val_accuracy: 0.9000\n",
            "Epoch 19/50\n",
            "4/4 [==============================] - 0s 11ms/step - loss: 0.3591 - accuracy: 0.8500 - val_loss: 0.2939 - val_accuracy: 0.9000\n",
            "Epoch 20/50\n",
            "4/4 [==============================] - 0s 12ms/step - loss: 0.3536 - accuracy: 0.8500 - val_loss: 0.2880 - val_accuracy: 0.9000\n",
            "Epoch 21/50\n",
            "4/4 [==============================] - 0s 11ms/step - loss: 0.3471 - accuracy: 0.8500 - val_loss: 0.2823 - val_accuracy: 0.9000\n",
            "Epoch 22/50\n",
            "4/4 [==============================] - 0s 12ms/step - loss: 0.3415 - accuracy: 0.8500 - val_loss: 0.2769 - val_accuracy: 0.9000\n",
            "Epoch 23/50\n",
            "4/4 [==============================] - 0s 12ms/step - loss: 0.3359 - accuracy: 0.8500 - val_loss: 0.2717 - val_accuracy: 0.9000\n",
            "Epoch 24/50\n",
            "4/4 [==============================] - 0s 12ms/step - loss: 0.3309 - accuracy: 0.8500 - val_loss: 0.2669 - val_accuracy: 0.9000\n",
            "Epoch 25/50\n",
            "4/4 [==============================] - 0s 12ms/step - loss: 0.3256 - accuracy: 0.8583 - val_loss: 0.2621 - val_accuracy: 0.9000\n",
            "Epoch 26/50\n",
            "4/4 [==============================] - 0s 13ms/step - loss: 0.3206 - accuracy: 0.8583 - val_loss: 0.2575 - val_accuracy: 0.9000\n",
            "Epoch 27/50\n",
            "4/4 [==============================] - 0s 12ms/step - loss: 0.3158 - accuracy: 0.8750 - val_loss: 0.2529 - val_accuracy: 0.9000\n",
            "Epoch 28/50\n",
            "4/4 [==============================] - 0s 12ms/step - loss: 0.3111 - accuracy: 0.8750 - val_loss: 0.2486 - val_accuracy: 0.9000\n",
            "Epoch 29/50\n",
            "4/4 [==============================] - 0s 19ms/step - loss: 0.3068 - accuracy: 0.8750 - val_loss: 0.2441 - val_accuracy: 0.9000\n",
            "Epoch 30/50\n",
            "4/4 [==============================] - 0s 17ms/step - loss: 0.3019 - accuracy: 0.8833 - val_loss: 0.2401 - val_accuracy: 0.9000\n",
            "Epoch 31/50\n",
            "4/4 [==============================] - 0s 24ms/step - loss: 0.2973 - accuracy: 0.8833 - val_loss: 0.2359 - val_accuracy: 0.9000\n",
            "Epoch 32/50\n",
            "4/4 [==============================] - 0s 17ms/step - loss: 0.2931 - accuracy: 0.8917 - val_loss: 0.2321 - val_accuracy: 0.9000\n",
            "Epoch 33/50\n",
            "4/4 [==============================] - 0s 22ms/step - loss: 0.2887 - accuracy: 0.8917 - val_loss: 0.2285 - val_accuracy: 0.9000\n",
            "Epoch 34/50\n",
            "4/4 [==============================] - 0s 18ms/step - loss: 0.2848 - accuracy: 0.9000 - val_loss: 0.2247 - val_accuracy: 0.9667\n",
            "Epoch 35/50\n",
            "4/4 [==============================] - 0s 22ms/step - loss: 0.2805 - accuracy: 0.9000 - val_loss: 0.2209 - val_accuracy: 0.9667\n",
            "Epoch 36/50\n",
            "4/4 [==============================] - 0s 20ms/step - loss: 0.2764 - accuracy: 0.9083 - val_loss: 0.2171 - val_accuracy: 0.9667\n",
            "Epoch 37/50\n",
            "4/4 [==============================] - 0s 23ms/step - loss: 0.2724 - accuracy: 0.9083 - val_loss: 0.2135 - val_accuracy: 0.9667\n",
            "Epoch 38/50\n",
            "4/4 [==============================] - 0s 15ms/step - loss: 0.2685 - accuracy: 0.9083 - val_loss: 0.2098 - val_accuracy: 0.9667\n",
            "Epoch 39/50\n",
            "4/4 [==============================] - 0s 25ms/step - loss: 0.2647 - accuracy: 0.9083 - val_loss: 0.2062 - val_accuracy: 0.9667\n",
            "Epoch 40/50\n",
            "4/4 [==============================] - 0s 15ms/step - loss: 0.2608 - accuracy: 0.9083 - val_loss: 0.2029 - val_accuracy: 0.9667\n",
            "Epoch 41/50\n",
            "4/4 [==============================] - 0s 15ms/step - loss: 0.2571 - accuracy: 0.9167 - val_loss: 0.1999 - val_accuracy: 0.9667\n",
            "Epoch 42/50\n",
            "4/4 [==============================] - 0s 27ms/step - loss: 0.2534 - accuracy: 0.9167 - val_loss: 0.1969 - val_accuracy: 0.9667\n",
            "Epoch 43/50\n",
            "4/4 [==============================] - 0s 21ms/step - loss: 0.2497 - accuracy: 0.9167 - val_loss: 0.1940 - val_accuracy: 0.9667\n",
            "Epoch 44/50\n",
            "4/4 [==============================] - 0s 23ms/step - loss: 0.2460 - accuracy: 0.9167 - val_loss: 0.1913 - val_accuracy: 0.9667\n",
            "Epoch 45/50\n",
            "4/4 [==============================] - 0s 22ms/step - loss: 0.2426 - accuracy: 0.9250 - val_loss: 0.1885 - val_accuracy: 0.9667\n",
            "Epoch 46/50\n",
            "4/4 [==============================] - 0s 21ms/step - loss: 0.2395 - accuracy: 0.9250 - val_loss: 0.1852 - val_accuracy: 0.9667\n",
            "Epoch 47/50\n",
            "4/4 [==============================] - 0s 21ms/step - loss: 0.2355 - accuracy: 0.9333 - val_loss: 0.1820 - val_accuracy: 0.9667\n",
            "Epoch 48/50\n",
            "4/4 [==============================] - 0s 21ms/step - loss: 0.2324 - accuracy: 0.9333 - val_loss: 0.1798 - val_accuracy: 0.9667\n",
            "Epoch 49/50\n",
            "4/4 [==============================] - 0s 25ms/step - loss: 0.2286 - accuracy: 0.9500 - val_loss: 0.1770 - val_accuracy: 0.9667\n",
            "Epoch 50/50\n",
            "4/4 [==============================] - 0s 25ms/step - loss: 0.2253 - accuracy: 0.9500 - val_loss: 0.1747 - val_accuracy: 0.9667\n",
            "Training accuracy with mini-batch size: 0.949999988079071\n",
            "Testing accuracy with mini-batch size: 0.9666666388511658\n",
            "Epoch 1/50\n",
            "120/120 [==============================] - 0s 3ms/step - loss: 0.2155 - accuracy: 0.9333 - val_loss: 0.1400 - val_accuracy: 1.0000\n",
            "Epoch 2/50\n",
            "120/120 [==============================] - 0s 3ms/step - loss: 0.1738 - accuracy: 0.9417 - val_loss: 0.1262 - val_accuracy: 1.0000\n",
            "Epoch 3/50\n",
            "120/120 [==============================] - 0s 3ms/step - loss: 0.1564 - accuracy: 0.9500 - val_loss: 0.1088 - val_accuracy: 1.0000\n",
            "Epoch 4/50\n",
            "120/120 [==============================] - 0s 3ms/step - loss: 0.1389 - accuracy: 0.9500 - val_loss: 0.0909 - val_accuracy: 1.0000\n",
            "Epoch 5/50\n",
            "120/120 [==============================] - 0s 2ms/step - loss: 0.1287 - accuracy: 0.9500 - val_loss: 0.0814 - val_accuracy: 1.0000\n",
            "Epoch 6/50\n",
            "120/120 [==============================] - 0s 2ms/step - loss: 0.1164 - accuracy: 0.9500 - val_loss: 0.0797 - val_accuracy: 1.0000\n",
            "Epoch 7/50\n",
            "120/120 [==============================] - 0s 2ms/step - loss: 0.1101 - accuracy: 0.9500 - val_loss: 0.0721 - val_accuracy: 1.0000\n",
            "Epoch 8/50\n",
            "120/120 [==============================] - 0s 2ms/step - loss: 0.1038 - accuracy: 0.9583 - val_loss: 0.0675 - val_accuracy: 1.0000\n",
            "Epoch 9/50\n",
            "120/120 [==============================] - 0s 3ms/step - loss: 0.0958 - accuracy: 0.9667 - val_loss: 0.0667 - val_accuracy: 1.0000\n",
            "Epoch 10/50\n",
            "120/120 [==============================] - 0s 3ms/step - loss: 0.0914 - accuracy: 0.9583 - val_loss: 0.0646 - val_accuracy: 1.0000\n",
            "Epoch 11/50\n",
            "120/120 [==============================] - 0s 2ms/step - loss: 0.0876 - accuracy: 0.9583 - val_loss: 0.0600 - val_accuracy: 1.0000\n",
            "Epoch 12/50\n",
            "120/120 [==============================] - 0s 2ms/step - loss: 0.0839 - accuracy: 0.9750 - val_loss: 0.0693 - val_accuracy: 0.9667\n",
            "Epoch 13/50\n",
            "120/120 [==============================] - 0s 3ms/step - loss: 0.0856 - accuracy: 0.9667 - val_loss: 0.0541 - val_accuracy: 1.0000\n",
            "Epoch 14/50\n",
            "120/120 [==============================] - 0s 3ms/step - loss: 0.0805 - accuracy: 0.9583 - val_loss: 0.0552 - val_accuracy: 1.0000\n",
            "Epoch 15/50\n",
            "120/120 [==============================] - 0s 3ms/step - loss: 0.0784 - accuracy: 0.9667 - val_loss: 0.0570 - val_accuracy: 1.0000\n",
            "Epoch 16/50\n",
            "120/120 [==============================] - 0s 3ms/step - loss: 0.0756 - accuracy: 0.9667 - val_loss: 0.0544 - val_accuracy: 1.0000\n",
            "Epoch 17/50\n",
            "120/120 [==============================] - 0s 3ms/step - loss: 0.0733 - accuracy: 0.9750 - val_loss: 0.0575 - val_accuracy: 0.9667\n",
            "Epoch 18/50\n",
            "120/120 [==============================] - 0s 2ms/step - loss: 0.0750 - accuracy: 0.9583 - val_loss: 0.0535 - val_accuracy: 1.0000\n",
            "Epoch 19/50\n",
            "120/120 [==============================] - 0s 2ms/step - loss: 0.0713 - accuracy: 0.9667 - val_loss: 0.0567 - val_accuracy: 1.0000\n",
            "Epoch 20/50\n",
            "120/120 [==============================] - 0s 2ms/step - loss: 0.0697 - accuracy: 0.9583 - val_loss: 0.0507 - val_accuracy: 1.0000\n",
            "Epoch 21/50\n",
            "120/120 [==============================] - 0s 2ms/step - loss: 0.0682 - accuracy: 0.9750 - val_loss: 0.0549 - val_accuracy: 0.9667\n",
            "Epoch 22/50\n",
            "120/120 [==============================] - 0s 3ms/step - loss: 0.0660 - accuracy: 0.9667 - val_loss: 0.0462 - val_accuracy: 1.0000\n",
            "Epoch 23/50\n",
            "120/120 [==============================] - 0s 3ms/step - loss: 0.0675 - accuracy: 0.9750 - val_loss: 0.0497 - val_accuracy: 0.9667\n",
            "Epoch 24/50\n",
            "120/120 [==============================] - 0s 2ms/step - loss: 0.0645 - accuracy: 0.9667 - val_loss: 0.0490 - val_accuracy: 0.9667\n",
            "Epoch 25/50\n",
            "120/120 [==============================] - 0s 2ms/step - loss: 0.0667 - accuracy: 0.9750 - val_loss: 0.0547 - val_accuracy: 0.9667\n",
            "Epoch 26/50\n",
            "120/120 [==============================] - 0s 3ms/step - loss: 0.0686 - accuracy: 0.9583 - val_loss: 0.0428 - val_accuracy: 1.0000\n",
            "Epoch 27/50\n",
            "120/120 [==============================] - 0s 3ms/step - loss: 0.0640 - accuracy: 0.9667 - val_loss: 0.0429 - val_accuracy: 1.0000\n",
            "Epoch 28/50\n",
            "120/120 [==============================] - 0s 2ms/step - loss: 0.0602 - accuracy: 0.9750 - val_loss: 0.0439 - val_accuracy: 1.0000\n",
            "Epoch 29/50\n",
            "120/120 [==============================] - 0s 3ms/step - loss: 0.0613 - accuracy: 0.9667 - val_loss: 0.0431 - val_accuracy: 1.0000\n",
            "Epoch 30/50\n",
            "120/120 [==============================] - 0s 4ms/step - loss: 0.0577 - accuracy: 0.9833 - val_loss: 0.0440 - val_accuracy: 1.0000\n",
            "Epoch 31/50\n",
            "120/120 [==============================] - 1s 4ms/step - loss: 0.0630 - accuracy: 0.9667 - val_loss: 0.0403 - val_accuracy: 1.0000\n",
            "Epoch 32/50\n",
            "120/120 [==============================] - 0s 3ms/step - loss: 0.0571 - accuracy: 0.9833 - val_loss: 0.0428 - val_accuracy: 1.0000\n",
            "Epoch 33/50\n",
            "120/120 [==============================] - 0s 3ms/step - loss: 0.0616 - accuracy: 0.9667 - val_loss: 0.0365 - val_accuracy: 1.0000\n",
            "Epoch 34/50\n",
            "120/120 [==============================] - 0s 3ms/step - loss: 0.0568 - accuracy: 0.9833 - val_loss: 0.0412 - val_accuracy: 1.0000\n",
            "Epoch 35/50\n",
            "120/120 [==============================] - 0s 4ms/step - loss: 0.0621 - accuracy: 0.9667 - val_loss: 0.0375 - val_accuracy: 1.0000\n",
            "Epoch 36/50\n",
            "120/120 [==============================] - 1s 9ms/step - loss: 0.0609 - accuracy: 0.9750 - val_loss: 0.0352 - val_accuracy: 1.0000\n",
            "Epoch 37/50\n",
            "120/120 [==============================] - 1s 6ms/step - loss: 0.0586 - accuracy: 0.9750 - val_loss: 0.0386 - val_accuracy: 1.0000\n",
            "Epoch 38/50\n",
            "120/120 [==============================] - 1s 7ms/step - loss: 0.0549 - accuracy: 0.9833 - val_loss: 0.0361 - val_accuracy: 1.0000\n",
            "Epoch 39/50\n",
            "120/120 [==============================] - 0s 3ms/step - loss: 0.0578 - accuracy: 0.9833 - val_loss: 0.0356 - val_accuracy: 1.0000\n",
            "Epoch 40/50\n",
            "120/120 [==============================] - 0s 2ms/step - loss: 0.0558 - accuracy: 0.9750 - val_loss: 0.0329 - val_accuracy: 1.0000\n",
            "Epoch 41/50\n",
            "120/120 [==============================] - 0s 2ms/step - loss: 0.0529 - accuracy: 0.9833 - val_loss: 0.0332 - val_accuracy: 1.0000\n",
            "Epoch 42/50\n",
            "120/120 [==============================] - 0s 2ms/step - loss: 0.0550 - accuracy: 0.9750 - val_loss: 0.0307 - val_accuracy: 1.0000\n",
            "Epoch 43/50\n",
            "120/120 [==============================] - 0s 3ms/step - loss: 0.0541 - accuracy: 0.9833 - val_loss: 0.0314 - val_accuracy: 1.0000\n",
            "Epoch 44/50\n",
            "120/120 [==============================] - 0s 3ms/step - loss: 0.0528 - accuracy: 0.9750 - val_loss: 0.0299 - val_accuracy: 1.0000\n",
            "Epoch 45/50\n",
            "120/120 [==============================] - 1s 6ms/step - loss: 0.0537 - accuracy: 0.9750 - val_loss: 0.0323 - val_accuracy: 1.0000\n",
            "Epoch 46/50\n",
            "120/120 [==============================] - 1s 5ms/step - loss: 0.0526 - accuracy: 0.9833 - val_loss: 0.0371 - val_accuracy: 1.0000\n",
            "Epoch 47/50\n",
            "120/120 [==============================] - 1s 8ms/step - loss: 0.0540 - accuracy: 0.9667 - val_loss: 0.0304 - val_accuracy: 1.0000\n",
            "Epoch 48/50\n",
            "120/120 [==============================] - 1s 5ms/step - loss: 0.0530 - accuracy: 0.9833 - val_loss: 0.0320 - val_accuracy: 1.0000\n",
            "Epoch 49/50\n",
            "120/120 [==============================] - 0s 2ms/step - loss: 0.0521 - accuracy: 0.9750 - val_loss: 0.0283 - val_accuracy: 1.0000\n",
            "Epoch 50/50\n",
            "120/120 [==============================] - 0s 3ms/step - loss: 0.0502 - accuracy: 0.9833 - val_loss: 0.0288 - val_accuracy: 1.0000\n",
            "Training accuracy with stochastic gradient descent: 0.9833333492279053\n",
            "Testing accuracy with stochastic gradient descent: 1.0\n"
          ]
        }
      ]
    },
    {
      "cell_type": "code",
      "source": [
        "ANS3:Batch Gradient Descent (BGD): In BGD, the entire dataset is used to compute the gradient of the cost function, and the model parameters are updated once per iteration"
      ],
      "metadata": {
        "id": "I27r1ddpZ2Q2"
      },
      "execution_count": null,
      "outputs": []
    },
    {
      "cell_type": "code",
      "source": [
        "import numpy as np\n",
        "\n",
        "# Assume cost_function and gradient_function are defined\n",
        "# theta is the parameter vector\n",
        "\n",
        "def batch_gradient_descent(X, y, theta, learning_rate, num_iterations):\n",
        "    m = len(y)\n",
        "\n",
        "    for _ in range(num_iterations):\n",
        "        gradient = gradient_function(X, y, theta)\n",
        "        theta = theta - learning_rate * gradient / m\n",
        "\n",
        "    return theta"
      ],
      "metadata": {
        "id": "IQK1DCXIaCv7"
      },
      "execution_count": 37,
      "outputs": []
    },
    {
      "cell_type": "markdown",
      "source": [],
      "metadata": {
        "id": "YZoiHQhwZ1ZZ"
      }
    },
    {
      "cell_type": "markdown",
      "source": [
        "Stochastic Gradient Descent (SGD): In SGD, only one training example is used to compute the gradient and update the model parameters in each iteration."
      ],
      "metadata": {
        "id": "IyO75bY2aIpZ"
      }
    },
    {
      "cell_type": "code",
      "source": [
        "import numpy as np\n",
        "\n",
        "# Assume cost_function and gradient_function are defined\n",
        "# theta is the parameter vector\n",
        "\n",
        "def stochastic_gradient_descent(X, y, theta, learning_rate, num_iterations):\n",
        "    m = len(y)\n",
        "\n",
        "    for _ in range(num_iterations):\n",
        "        for i in range(m):\n",
        "            gradient = gradient_function(X[i], y[i], theta)\n",
        "            theta = theta - learning_rate * gradient\n",
        "\n",
        "    return theta\n"
      ],
      "metadata": {
        "id": "wURlkwoCaOj3"
      },
      "execution_count": 38,
      "outputs": []
    },
    {
      "cell_type": "markdown",
      "source": [
        "Mini-Batch Gradient Descent (MBGD): In MBGD, a batch of training examples (mini-batch) is used to compute the gradient and update the model parameters in each iteration."
      ],
      "metadata": {
        "id": "ZqzcRFl6aUG7"
      }
    },
    {
      "cell_type": "code",
      "source": [
        "import numpy as np\n",
        "\n",
        "# Assume cost_function and gradient_function are defined\n",
        "# theta is the parameter vector\n",
        "\n",
        "def mini_batch_gradient_descent(X, y, theta, learning_rate, num_iterations, batch_size):\n",
        "    m = len(y)\n",
        "\n",
        "    for _ in range(num_iterations):\n",
        "        for i in range(0, m, batch_size):\n",
        "            X_batch = X[i:i+batch_size]\n",
        "            y_batch = y[i:i+batch_size]\n",
        "            gradient = gradient_function(X_batch, y_batch, theta)\n",
        "            theta = theta - learning_rate * gradient / batch_size\n",
        "\n",
        "    return theta"
      ],
      "metadata": {
        "id": "xDStA2nyaX0k"
      },
      "execution_count": 39,
      "outputs": []
    }
  ]
}